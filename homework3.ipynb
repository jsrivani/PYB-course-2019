{
 "cells": [
  {
   "cell_type": "markdown",
   "metadata": {},
   "source": [
    "# Homework 3"
   ]
  },
  {
   "cell_type": "markdown",
   "metadata": {},
   "source": [
    "Review on lattices and python."
   ]
  },
  {
   "cell_type": "markdown",
   "metadata": {},
   "source": [
    " ${\\bf Problem \\,\\, 1.}$ Resubmit the last homework with the improvements indicated by the instructor. "
   ]
  },
  {
   "cell_type": "markdown",
   "metadata": {},
   "source": [
    "$ {\\bf Problem \\,\\, 2.}$ Using python generate a $10 \\times 10$ lattice around (0,0) using the notion of lattice vectors and represent the lattice sites, (a) for a square lattice, and (b) for a honeycomb lattice, and (c) rotate them by 20$^\\circ$ degrees."
   ]
  },
  {
   "cell_type": "markdown",
   "metadata": {},
   "source": [
    "$ {\\bf Problem \\,\\, 3.}$ Using brick lattices build the tight-binding Hamiltonian with hopping parameter $t=-1~$eV between nearest neighbors for (a) a rectangular flake of $N \\times M$ sizes where $N=5$ columns and $M=4$ rows. (b) Build the Hamiltonian of a pentacene, (c) hexacene, and (d) heptacene. (e) Produce the Hamiltonian of a phenyl group quantum dot consisting of one 7-5-7-5 rings."
   ]
  },
  {
   "cell_type": "code",
   "execution_count": null,
   "metadata": {},
   "outputs": [],
   "source": []
  }
 ],
 "metadata": {
  "kernelspec": {
   "display_name": "Python 3",
   "language": "python",
   "name": "python3"
  },
  "language_info": {
   "codemirror_mode": {
    "name": "ipython",
    "version": 3
   },
   "file_extension": ".py",
   "mimetype": "text/x-python",
   "name": "python",
   "nbconvert_exporter": "python",
   "pygments_lexer": "ipython3",
   "version": "3.6.5"
  }
 },
 "nbformat": 4,
 "nbformat_minor": 2
}
