{
 "cells": [
  {
   "cell_type": "markdown",
   "metadata": {},
   "source": [
    "# Homework 2"
   ]
  },
  {
   "cell_type": "markdown",
   "metadata": {},
   "source": [
    "Simplest tight-binding models."
   ]
  },
  {
   "cell_type": "markdown",
   "metadata": {},
   "source": [
    " ${\\bf Problem \\,\\, 1.}$ The electron binding energy of a hydrogen atom is $E_h=-13.6~$eV. In the tight-binding approximation the Hamiltonian for the electron can be represented by a single site potential energy. (a) Write the Hamiltonian for this system. (b) Note that the dimension of the Hamiltonian is proportional to the number of atoms and the number of orbitals in the atom. What is the dimension of the Hamiltonian for this hydrogen atom?"
   ]
  },
  {
   "cell_type": "markdown",
   "metadata": {},
   "source": [
    "$ {\\bf Problem \\,\\, 2.}$ Obtain the tight-binding Hamiltonian of a diatomic molecule consisting of atoms A and B and one orbital per atom. The site energies are $E_A=0~$eV and $E_B=1~$eV. The interatomic hopping energy is $t=2~$eV. Obtain the bonding and antibonding energy levels and the associated wavefunctions (eigenvectors) and discuss their symmetries depending on the sign of interatomic hopping energy. "
   ]
  },
  {
   "cell_type": "markdown",
   "metadata": {},
   "source": [
    "$ {\\bf Problem \\,\\, 3.}$ Consider an extension of the previous problem for a linear chain of three atoms with site energies $E_i=0~$eV. The interatomic hopping parameter is $t=2~$eV. (a) Write the code to build the Hamiltonian matrix, then obtain the eigenvectors and eigenvalues. (b) What is the relationship between $t$ and the resulting energy levels? (c) Discuss the character of the molecular orbital wave functions depending on the eigenvalue energies. (d) Repeat the same exercise when the triatomic molecules form a closed triangle and an electron can succesively hop from one site to the neighboring site."
   ]
  },
  {
   "cell_type": "markdown",
   "metadata": {},
   "source": [
    "${\\bf Problem \\,\\, 4.}$ (a) Use python to obtain the eigenenergy spectrum as a function of $N$ for a linear chain of $N$-atoms ranging from 2 to 100. The site energies are $E_0=0$ and interatomic hopping energy of $t=1~$eV. (b) Compare your plot against Fig. 2a in the paper by Analytis uploaded in piazza. (c) When do we get an eigenenergy of zero? (d) What is the maximum and minimum value of the eigenenergies?"
   ]
  },
  {
   "cell_type": "markdown",
   "metadata": {},
   "source": [
    "${\\bf Problem \\,\\,5.}$ Using python build the Hamiltonian of a 16 atoms molecule consisting of 4 columns and 4 rows in a regular square array. Consider that interatomic hopping of $t=-2~$eV exists only along the horizontal or vertical directions. (a) Represent the Hamiltonian matrix and (b) plot associated energy spectrum.\n"
   ]
  },
  {
   "cell_type": "code",
   "execution_count": null,
   "metadata": {},
   "outputs": [],
   "source": []
  }
 ],
 "metadata": {
  "kernelspec": {
   "display_name": "Python 3",
   "language": "python",
   "name": "python3"
  },
  "language_info": {
   "codemirror_mode": {
    "name": "ipython",
    "version": 3
   },
   "file_extension": ".py",
   "mimetype": "text/x-python",
   "name": "python",
   "nbconvert_exporter": "python",
   "pygments_lexer": "ipython3",
   "version": "3.6.4"
  }
 },
 "nbformat": 4,
 "nbformat_minor": 2
}
